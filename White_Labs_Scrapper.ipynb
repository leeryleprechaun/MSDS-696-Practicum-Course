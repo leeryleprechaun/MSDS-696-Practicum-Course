{
 "cells": [
  {
   "cell_type": "code",
   "execution_count": 1,
   "id": "d9984478",
   "metadata": {},
   "outputs": [],
   "source": [
    "from gazpacho import get, Soup\n",
    "import numpy\n",
    "import pandas\n",
    "import requests, bs4\n",
    "import re, os\n",
    "import time"
   ]
  },
  {
   "cell_type": "code",
   "execution_count": 2,
   "id": "1292a46a",
   "metadata": {},
   "outputs": [],
   "source": [
    "# Verifying that the page request is valid\n",
    "from gazpacho import get, Soup\n",
    "\n",
    "url = 'https://www.whitelabs.com/yeast-single?id=102&type=YEAST'\n",
    "\n",
    "# fetch step\n",
    "html = get(url)\n",
    "\n",
    "# extract step\n",
    "soup = Soup(html)"
   ]
  },
  {
   "cell_type": "code",
   "execution_count": 3,
   "id": "39499f40",
   "metadata": {},
   "outputs": [],
   "source": [
    "# use find() to parse a specific HTML\n",
    "gaz_data = soup.find('div', {'itemprop':'address'})\n",
    "gaz_data"
   ]
  },
  {
   "cell_type": "code",
   "execution_count": 4,
   "id": "9ac4d5f3",
   "metadata": {},
   "outputs": [],
   "source": [
    "def pullDescription(soup):\n",
    "    description = soup.find('div', {'itemprop':'address'})\n",
    "    print(description)\n",
    "    x = str(description)\n",
    "    start = x.find('<p>')\n",
    "    end = x.find('<br>')\n",
    "    description = x[start+3:end]\n",
    "    return description"
   ]
  },
  {
   "cell_type": "code",
   "execution_count": 5,
   "id": "922743bc",
   "metadata": {
    "scrolled": true
   },
   "outputs": [
    {
     "name": "stdout",
     "output_type": "stream",
     "text": [
      "None\n"
     ]
    },
    {
     "data": {
      "text/plain": [
       "'n'"
      ]
     },
     "execution_count": 5,
     "metadata": {},
     "output_type": "execute_result"
    }
   ],
   "source": [
    "pullDescription(soup)"
   ]
  },
  {
   "cell_type": "code",
   "execution_count": 6,
   "id": "75f22a48",
   "metadata": {},
   "outputs": [
    {
     "data": {
      "text/plain": [
       "<div class=\"accordion-style\" id=\"accordionEx\" role=\"tablist\" aria-multiselectable=\"true\">\n",
       "  <ul class=\"beer_style\">\n",
       "    <li>\n",
       "American IPA\n",
       "</li>\n",
       "    <li>\n",
       "Blonde Ale\n",
       "</li>\n",
       "    <li>\n",
       "Brown Ale\n",
       "</li>\n",
       "    <li>\n",
       "Double IPA\n",
       "</li>\n",
       "    <li>\n",
       "English Bitter\n",
       "</li>\n",
       "    <li>\n",
       "English IPA\n",
       "</li>\n",
       "    <li>\n",
       "Hazy/Juicy IPA\n",
       "</li>\n",
       "    <li>\n",
       "Imperial Stout\n",
       "</li>\n",
       "    <li>\n",
       "Old Ale\n",
       "</li>\n",
       "    <li>\n",
       "Pale Ale\n",
       "</li>\n",
       "    <li>\n",
       "Porter\n",
       "</li>\n",
       "    <li>\n",
       "Red Ale\n",
       "</li>\n",
       "    <li>\n",
       "Stout\n",
       "</li>\n",
       "  </ul>\n",
       "</div>"
      ]
     },
     "execution_count": 6,
     "metadata": {},
     "output_type": "execute_result"
    }
   ],
   "source": [
    "# narrow things down to the table\n",
    "gaz_table = soup.find('div', {'class':'accordion-style'})\n",
    "gaz_table"
   ]
  },
  {
   "cell_type": "code",
   "execution_count": 7,
   "id": "9f8c2fd4",
   "metadata": {},
   "outputs": [],
   "source": [
    "def pullStyle(soup):\n",
    "    a = (str(gaz_table.html))\n",
    "    a = a.replace('<li>\\n' , '')\n",
    "    a = a.replace('\\n</li>\\n', '')\n",
    "    a = a.replace('</ul>\\n</div>', '')\n",
    "    x = len(a)\n",
    "    #print(x)\n",
    "    style = a[120:]\n",
    "    #print(a)\n",
    "    sytle = style.split(\"   \")\n",
    "    style = sytle[:]\n",
    "    return style"
   ]
  },
  {
   "cell_type": "code",
   "execution_count": 8,
   "id": "b26e119d",
   "metadata": {},
   "outputs": [
    {
     "data": {
      "text/plain": [
       "['American IPA',\n",
       " ' Blonde Ale',\n",
       " ' Brown Ale',\n",
       " ' Double IPA',\n",
       " ' English Bitter',\n",
       " ' English IPA',\n",
       " ' Hazy/Juicy IPA',\n",
       " ' Imperial Stout',\n",
       " ' Old Ale',\n",
       " ' Pale Ale',\n",
       " ' Porter',\n",
       " ' Red Ale',\n",
       " ' Stout  ']"
      ]
     },
     "execution_count": 8,
     "metadata": {},
     "output_type": "execute_result"
    }
   ],
   "source": [
    "pullStyle(soup)"
   ]
  },
  {
   "cell_type": "code",
   "execution_count": 9,
   "id": "d60a797d",
   "metadata": {},
   "outputs": [],
   "source": [
    "def pullAttenuation(soup):\n",
    "    metrics = soup.find('p')\n",
    "    clean_metrics =[]\n",
    "    for i in metrics:\n",
    "        i = str(i).replace('</p>', '')\n",
    "        i = str(i).replace('<p>', '')\n",
    "        #i = str(i).replace(\"\\\\r\\\\n\", '')\n",
    "        i = re.sub('\\s+', '', i)\n",
    "        clean_metrics.append(i)\n",
    "    attenuation = clean_metrics[0]\n",
    "    \n",
    "    return attenuation"
   ]
  },
  {
   "cell_type": "code",
   "execution_count": 10,
   "id": "8dd01a51",
   "metadata": {},
   "outputs": [
    {
     "data": {
      "text/plain": [
       "'63%-70%'"
      ]
     },
     "execution_count": 10,
     "metadata": {},
     "output_type": "execute_result"
    }
   ],
   "source": [
    "pullAttenuation(soup)"
   ]
  },
  {
   "cell_type": "code",
   "execution_count": 11,
   "id": "bfc3de3b",
   "metadata": {},
   "outputs": [],
   "source": [
    "def pullFlocculation(soup):\n",
    "    metrics = soup.find('p')\n",
    "    clean_metrics =[]\n",
    "    for i in metrics:\n",
    "        i = str(i).replace('</p>', '')\n",
    "        i = str(i).replace('<p>', '')\n",
    "        #i = str(i).replace(\"\\\\r\\\\n\", '')\n",
    "        #i = re.sub('\\s+', '', i)\n",
    "        clean_metrics.append(i)\n",
    "    flocculation = clean_metrics[2]\n",
    "    \n",
    "    return flocculation"
   ]
  },
  {
   "cell_type": "code",
   "execution_count": 12,
   "id": "0edb3529",
   "metadata": {},
   "outputs": [
    {
     "data": {
      "text/plain": [
       "'Very High'"
      ]
     },
     "execution_count": 12,
     "metadata": {},
     "output_type": "execute_result"
    }
   ],
   "source": [
    "pullFlocculation(soup)"
   ]
  },
  {
   "cell_type": "code",
   "execution_count": 13,
   "id": "29678f84",
   "metadata": {},
   "outputs": [],
   "source": [
    "def pullABV(soup):\n",
    "    metrics = soup.find('p')\n",
    "    clean_metrics =[]\n",
    "    for i in metrics:\n",
    "        i = str(i).replace('</p>', '')\n",
    "        i = str(i).replace('<p>', '')\n",
    "        #i = str(i).replace(\"\\\\r\\\\n\", '')\n",
    "        #i = re.sub('\\s+', '', i)\n",
    "        clean_metrics.append(i)\n",
    "    alcohol_tolerance = clean_metrics[3]\n",
    "    \n",
    "    return alcohol_tolerance"
   ]
  },
  {
   "cell_type": "code",
   "execution_count": 14,
   "id": "064189e2",
   "metadata": {},
   "outputs": [
    {
     "data": {
      "text/plain": [
       "'Medium (5-10%)'"
      ]
     },
     "execution_count": 14,
     "metadata": {},
     "output_type": "execute_result"
    }
   ],
   "source": [
    "pullABV(soup)"
   ]
  },
  {
   "cell_type": "code",
   "execution_count": 15,
   "id": "a277a260",
   "metadata": {},
   "outputs": [],
   "source": [
    "def pullTEMP(soup):\n",
    "    metrics = soup.find('p')\n",
    "    clean_metrics =[]\n",
    "    for i in metrics:\n",
    "        i = str(i).replace('</p>', '')\n",
    "        i = str(i).replace('<p>', '')\n",
    "        i = str(i).replace('<br>', ' ')\n",
    "        i = re.sub('\\s+', '', i)\n",
    "        i = str(i).replace('F', 'F ')\n",
    "        #i = str(i).replace(\"\\\\r\\\\n\", '')\n",
    "        \n",
    "        clean_metrics.append(i)\n",
    "    fermentation_temperature = clean_metrics[4]\n",
    "    \n",
    "    return fermentation_temperature"
   ]
  },
  {
   "cell_type": "code",
   "execution_count": 16,
   "id": "420d5803",
   "metadata": {},
   "outputs": [
    {
     "data": {
      "text/plain": [
       "'65°-68°F 18°-20°C'"
      ]
     },
     "execution_count": 16,
     "metadata": {},
     "output_type": "execute_result"
    }
   ],
   "source": [
    "pullTEMP(soup)"
   ]
  },
  {
   "cell_type": "code",
   "execution_count": 17,
   "id": "b0756494",
   "metadata": {},
   "outputs": [],
   "source": [
    "def pullSTA1(soup):\n",
    "    metrics = soup.find('p')\n",
    "    clean_metrics =[]\n",
    "    for i in metrics:\n",
    "        i = str(i).replace('</p>', '')\n",
    "        i = str(i).replace('<p>', '')\n",
    "        i = str(i).replace('<br>', ' ')\n",
    "        i = re.sub('\\s+', '', i)\n",
    "        i = str(i).replace('F', 'F ')\n",
    "        #i = str(i).replace(\"\\\\r\\\\n\", '')\n",
    "        \n",
    "        clean_metrics.append(i)\n",
    "    STA1 = clean_metrics[5]\n",
    "    \n",
    "    return STA1"
   ]
  },
  {
   "cell_type": "code",
   "execution_count": 18,
   "id": "cc23a7d9",
   "metadata": {},
   "outputs": [
    {
     "data": {
      "text/plain": [
       "'Negative'"
      ]
     },
     "execution_count": 18,
     "metadata": {},
     "output_type": "execute_result"
    }
   ],
   "source": [
    "pullSTA1(soup)"
   ]
  },
  {
   "cell_type": "code",
   "execution_count": 19,
   "id": "0a837f91",
   "metadata": {},
   "outputs": [],
   "source": [
    "def pullNumber(soup):\n",
    "    number = soup.find('ul', {'class' :'details'})\n",
    "    number = str(number)\n",
    "    ns = number.find('WLP')\n",
    "    number = number[ns:ns+6]\n",
    "    return number"
   ]
  },
  {
   "cell_type": "code",
   "execution_count": 20,
   "id": "adbe7a2a",
   "metadata": {},
   "outputs": [
    {
     "data": {
      "text/plain": [
       "'WLP002'"
      ]
     },
     "execution_count": 20,
     "metadata": {},
     "output_type": "execute_result"
    }
   ],
   "source": [
    "pullNumber(soup)"
   ]
  },
  {
   "cell_type": "code",
   "execution_count": 21,
   "id": "65b584fb",
   "metadata": {},
   "outputs": [],
   "source": [
    "    description = soup.find('div', {'class':'dynamic-content'})"
   ]
  },
  {
   "cell_type": "code",
   "execution_count": 22,
   "id": "999bf063",
   "metadata": {},
   "outputs": [],
   "source": [
    "def pullStrain(soup):\n",
    "    strain = soup.find('h1')\n",
    "    strain = str(strain).replace('<h1>', '')\n",
    "    strain = str(strain).replace('</h1>', '')\n",
    "    return strain"
   ]
  },
  {
   "cell_type": "code",
   "execution_count": 23,
   "id": "869217ea",
   "metadata": {},
   "outputs": [
    {
     "data": {
      "text/plain": [
       "'English Ale Yeast'"
      ]
     },
     "execution_count": 23,
     "metadata": {},
     "output_type": "execute_result"
    }
   ],
   "source": [
    "pullStrain(soup)"
   ]
  },
  {
   "cell_type": "code",
   "execution_count": 24,
   "id": "526b7706",
   "metadata": {},
   "outputs": [],
   "source": [
    "import pandas as pd\n",
    "\n",
    "def loadTable(soup):\n",
    "    style = pullStyle(soup)\n",
    "    #pullMetrics(soup)\n",
    "    number = pullNumber(soup)\n",
    "    strain = pullStrain(soup)\n",
    "    attenuation = pullAttenuation(soup)\n",
    "    flocculation = pullFlocculation(soup)\n",
    "    alcohol_tolerance = pullABV(soup)\n",
    "    fermentation_temperature = pullTEMP(soup)\n",
    "    STA1 = pullSTA1(soup)\n",
    "    description = pullDescription(soup)\n",
    "    entry = {'Number' : [number], 'Strain': [strain],\n",
    "        'Attenuation' : [attenuation],\n",
    "        'Flocculation' : [flocculation],\n",
    "        'Alcohol_Tolerance' : [alcohol_tolerance],\n",
    "        'Fermentation_Temperature' : [fermentation_temperature],\n",
    "        'STA1' : [STA1],\n",
    "        'Description' : [description]}\n",
    "    df = pd.DataFrame(entry)\n",
    "    return df"
   ]
  },
  {
   "cell_type": "code",
   "execution_count": 25,
   "id": "9c64f445",
   "metadata": {},
   "outputs": [
    {
     "name": "stdout",
     "output_type": "stream",
     "text": [
      "None\n"
     ]
    }
   ],
   "source": [
    "df = loadTable(soup)"
   ]
  },
  {
   "cell_type": "markdown",
   "id": "801d1360",
   "metadata": {},
   "source": [
    "# Pulling all the urls that are needed"
   ]
  },
  {
   "cell_type": "code",
   "execution_count": 26,
   "id": "9450b595",
   "metadata": {},
   "outputs": [],
   "source": [
    "url_list = []\n",
    "# https://www.whitelabs.com/yeast-single?id=105&type=YEAST\n",
    "\n",
    "url_1 = 'https://www.whitelabs.com/yeast-single?id='\n",
    "url_2 = '&type=YEAST'\n",
    "\n",
    "i = 101\n",
    "\n",
    "while i < 400:\n",
    "    full_url = url_1 + str(i) + url_2\n",
    "    url_list.append(full_url)\n",
    "    i = i+1\n",
    "    #print(full_url)"
   ]
  },
  {
   "cell_type": "code",
   "execution_count": 27,
   "id": "e5ce14e3",
   "metadata": {},
   "outputs": [
    {
     "name": "stdout",
     "output_type": "stream",
     "text": [
      "299\n"
     ]
    }
   ],
   "source": [
    "print(len(url_list))"
   ]
  },
  {
   "cell_type": "code",
   "execution_count": 28,
   "id": "c79b39c9",
   "metadata": {},
   "outputs": [
    {
     "name": "stdout",
     "output_type": "stream",
     "text": [
      "https://www.whitelabs.com/yeast-single?id=101&type=YEAST\n",
      "https://www.whitelabs.com/yeast-single?id=102&type=YEAST\n",
      "https://www.whitelabs.com/yeast-single?id=103&type=YEAST\n",
      "https://www.whitelabs.com/yeast-single?id=104&type=YEAST\n",
      "https://www.whitelabs.com/yeast-single?id=105&type=YEAST\n",
      "https://www.whitelabs.com/yeast-single?id=106&type=YEAST\n",
      "https://www.whitelabs.com/yeast-single?id=107&type=YEAST\n",
      "https://www.whitelabs.com/yeast-single?id=108&type=YEAST\n",
      "https://www.whitelabs.com/yeast-single?id=109&type=YEAST\n",
      "https://www.whitelabs.com/yeast-single?id=110&type=YEAST\n",
      "https://www.whitelabs.com/yeast-single?id=111&type=YEAST\n",
      "https://www.whitelabs.com/yeast-single?id=112&type=YEAST\n",
      "https://www.whitelabs.com/yeast-single?id=113&type=YEAST\n",
      "https://www.whitelabs.com/yeast-single?id=114&type=YEAST\n",
      "https://www.whitelabs.com/yeast-single?id=115&type=YEAST\n",
      "https://www.whitelabs.com/yeast-single?id=116&type=YEAST\n",
      "https://www.whitelabs.com/yeast-single?id=117&type=YEAST\n",
      "https://www.whitelabs.com/yeast-single?id=118&type=YEAST\n",
      "https://www.whitelabs.com/yeast-single?id=119&type=YEAST\n",
      "https://www.whitelabs.com/yeast-single?id=120&type=YEAST\n",
      "https://www.whitelabs.com/yeast-single?id=121&type=YEAST\n",
      "https://www.whitelabs.com/yeast-single?id=122&type=YEAST\n",
      "https://www.whitelabs.com/yeast-single?id=123&type=YEAST\n",
      "https://www.whitelabs.com/yeast-single?id=124&type=YEAST\n",
      "https://www.whitelabs.com/yeast-single?id=125&type=YEAST\n",
      "https://www.whitelabs.com/yeast-single?id=126&type=YEAST\n",
      "https://www.whitelabs.com/yeast-single?id=127&type=YEAST\n",
      "https://www.whitelabs.com/yeast-single?id=128&type=YEAST\n",
      "https://www.whitelabs.com/yeast-single?id=129&type=YEAST\n",
      "https://www.whitelabs.com/yeast-single?id=130&type=YEAST\n",
      "https://www.whitelabs.com/yeast-single?id=131&type=YEAST\n",
      "https://www.whitelabs.com/yeast-single?id=132&type=YEAST\n",
      "https://www.whitelabs.com/yeast-single?id=133&type=YEAST\n",
      "https://www.whitelabs.com/yeast-single?id=134&type=YEAST\n",
      "https://www.whitelabs.com/yeast-single?id=135&type=YEAST\n",
      "https://www.whitelabs.com/yeast-single?id=136&type=YEAST\n",
      "https://www.whitelabs.com/yeast-single?id=137&type=YEAST\n",
      "https://www.whitelabs.com/yeast-single?id=138&type=YEAST\n",
      "https://www.whitelabs.com/yeast-single?id=139&type=YEAST\n",
      "https://www.whitelabs.com/yeast-single?id=140&type=YEAST\n",
      "https://www.whitelabs.com/yeast-single?id=141&type=YEAST\n",
      "https://www.whitelabs.com/yeast-single?id=142&type=YEAST\n",
      "https://www.whitelabs.com/yeast-single?id=143&type=YEAST\n",
      "https://www.whitelabs.com/yeast-single?id=144&type=YEAST\n",
      "https://www.whitelabs.com/yeast-single?id=145&type=YEAST\n",
      "https://www.whitelabs.com/yeast-single?id=146&type=YEAST\n",
      "https://www.whitelabs.com/yeast-single?id=147&type=YEAST\n",
      "https://www.whitelabs.com/yeast-single?id=148&type=YEAST\n",
      "https://www.whitelabs.com/yeast-single?id=149&type=YEAST\n",
      "https://www.whitelabs.com/yeast-single?id=150&type=YEAST\n",
      "https://www.whitelabs.com/yeast-single?id=151&type=YEAST\n",
      "https://www.whitelabs.com/yeast-single?id=152&type=YEAST\n",
      "https://www.whitelabs.com/yeast-single?id=153&type=YEAST\n",
      "https://www.whitelabs.com/yeast-single?id=154&type=YEAST\n",
      "https://www.whitelabs.com/yeast-single?id=155&type=YEAST\n",
      "https://www.whitelabs.com/yeast-single?id=156&type=YEAST\n",
      "https://www.whitelabs.com/yeast-single?id=157&type=YEAST\n",
      "https://www.whitelabs.com/yeast-single?id=158&type=YEAST\n",
      "https://www.whitelabs.com/yeast-single?id=159&type=YEAST\n",
      "https://www.whitelabs.com/yeast-single?id=160&type=YEAST\n",
      "https://www.whitelabs.com/yeast-single?id=161&type=YEAST\n",
      "https://www.whitelabs.com/yeast-single?id=162&type=YEAST\n",
      "https://www.whitelabs.com/yeast-single?id=163&type=YEAST\n",
      "https://www.whitelabs.com/yeast-single?id=164&type=YEAST\n",
      "https://www.whitelabs.com/yeast-single?id=165&type=YEAST\n",
      "https://www.whitelabs.com/yeast-single?id=166&type=YEAST\n",
      "https://www.whitelabs.com/yeast-single?id=167&type=YEAST\n",
      "https://www.whitelabs.com/yeast-single?id=168&type=YEAST\n",
      "https://www.whitelabs.com/yeast-single?id=169&type=YEAST\n",
      "https://www.whitelabs.com/yeast-single?id=170&type=YEAST\n",
      "https://www.whitelabs.com/yeast-single?id=171&type=YEAST\n",
      "https://www.whitelabs.com/yeast-single?id=172&type=YEAST\n",
      "https://www.whitelabs.com/yeast-single?id=173&type=YEAST\n",
      "https://www.whitelabs.com/yeast-single?id=174&type=YEAST\n",
      "https://www.whitelabs.com/yeast-single?id=175&type=YEAST\n",
      "https://www.whitelabs.com/yeast-single?id=176&type=YEAST\n",
      "https://www.whitelabs.com/yeast-single?id=177&type=YEAST\n",
      "https://www.whitelabs.com/yeast-single?id=178&type=YEAST\n",
      "https://www.whitelabs.com/yeast-single?id=179&type=YEAST\n",
      "https://www.whitelabs.com/yeast-single?id=180&type=YEAST\n",
      "https://www.whitelabs.com/yeast-single?id=181&type=YEAST\n",
      "https://www.whitelabs.com/yeast-single?id=182&type=YEAST\n",
      "https://www.whitelabs.com/yeast-single?id=183&type=YEAST\n",
      "https://www.whitelabs.com/yeast-single?id=184&type=YEAST\n",
      "https://www.whitelabs.com/yeast-single?id=185&type=YEAST\n",
      "https://www.whitelabs.com/yeast-single?id=186&type=YEAST\n",
      "https://www.whitelabs.com/yeast-single?id=187&type=YEAST\n",
      "https://www.whitelabs.com/yeast-single?id=188&type=YEAST\n",
      "https://www.whitelabs.com/yeast-single?id=189&type=YEAST\n",
      "https://www.whitelabs.com/yeast-single?id=190&type=YEAST\n",
      "https://www.whitelabs.com/yeast-single?id=191&type=YEAST\n",
      "https://www.whitelabs.com/yeast-single?id=192&type=YEAST\n",
      "https://www.whitelabs.com/yeast-single?id=193&type=YEAST\n",
      "https://www.whitelabs.com/yeast-single?id=194&type=YEAST\n",
      "https://www.whitelabs.com/yeast-single?id=195&type=YEAST\n",
      "https://www.whitelabs.com/yeast-single?id=196&type=YEAST\n",
      "https://www.whitelabs.com/yeast-single?id=197&type=YEAST\n",
      "https://www.whitelabs.com/yeast-single?id=198&type=YEAST\n",
      "https://www.whitelabs.com/yeast-single?id=199&type=YEAST\n",
      "https://www.whitelabs.com/yeast-single?id=200&type=YEAST\n",
      "https://www.whitelabs.com/yeast-single?id=201&type=YEAST\n",
      "https://www.whitelabs.com/yeast-single?id=202&type=YEAST\n",
      "https://www.whitelabs.com/yeast-single?id=203&type=YEAST\n",
      "https://www.whitelabs.com/yeast-single?id=204&type=YEAST\n",
      "https://www.whitelabs.com/yeast-single?id=205&type=YEAST\n",
      "https://www.whitelabs.com/yeast-single?id=206&type=YEAST\n",
      "https://www.whitelabs.com/yeast-single?id=207&type=YEAST\n",
      "https://www.whitelabs.com/yeast-single?id=208&type=YEAST\n",
      "https://www.whitelabs.com/yeast-single?id=209&type=YEAST\n",
      "https://www.whitelabs.com/yeast-single?id=210&type=YEAST\n",
      "https://www.whitelabs.com/yeast-single?id=211&type=YEAST\n",
      "https://www.whitelabs.com/yeast-single?id=212&type=YEAST\n",
      "https://www.whitelabs.com/yeast-single?id=213&type=YEAST\n",
      "https://www.whitelabs.com/yeast-single?id=214&type=YEAST\n",
      "https://www.whitelabs.com/yeast-single?id=215&type=YEAST\n",
      "https://www.whitelabs.com/yeast-single?id=216&type=YEAST\n",
      "https://www.whitelabs.com/yeast-single?id=217&type=YEAST\n",
      "https://www.whitelabs.com/yeast-single?id=218&type=YEAST\n",
      "https://www.whitelabs.com/yeast-single?id=219&type=YEAST\n",
      "https://www.whitelabs.com/yeast-single?id=220&type=YEAST\n",
      "https://www.whitelabs.com/yeast-single?id=221&type=YEAST\n",
      "https://www.whitelabs.com/yeast-single?id=222&type=YEAST\n",
      "https://www.whitelabs.com/yeast-single?id=223&type=YEAST\n",
      "https://www.whitelabs.com/yeast-single?id=224&type=YEAST\n",
      "https://www.whitelabs.com/yeast-single?id=225&type=YEAST\n",
      "https://www.whitelabs.com/yeast-single?id=226&type=YEAST\n",
      "https://www.whitelabs.com/yeast-single?id=227&type=YEAST\n",
      "https://www.whitelabs.com/yeast-single?id=228&type=YEAST\n",
      "https://www.whitelabs.com/yeast-single?id=229&type=YEAST\n",
      "https://www.whitelabs.com/yeast-single?id=230&type=YEAST\n",
      "https://www.whitelabs.com/yeast-single?id=231&type=YEAST\n",
      "https://www.whitelabs.com/yeast-single?id=232&type=YEAST\n",
      "https://www.whitelabs.com/yeast-single?id=233&type=YEAST\n",
      "https://www.whitelabs.com/yeast-single?id=234&type=YEAST\n",
      "https://www.whitelabs.com/yeast-single?id=235&type=YEAST\n",
      "https://www.whitelabs.com/yeast-single?id=236&type=YEAST\n",
      "https://www.whitelabs.com/yeast-single?id=237&type=YEAST\n",
      "https://www.whitelabs.com/yeast-single?id=238&type=YEAST\n",
      "https://www.whitelabs.com/yeast-single?id=239&type=YEAST\n",
      "https://www.whitelabs.com/yeast-single?id=240&type=YEAST\n",
      "https://www.whitelabs.com/yeast-single?id=241&type=YEAST\n",
      "https://www.whitelabs.com/yeast-single?id=242&type=YEAST\n",
      "https://www.whitelabs.com/yeast-single?id=243&type=YEAST\n",
      "https://www.whitelabs.com/yeast-single?id=244&type=YEAST\n",
      "https://www.whitelabs.com/yeast-single?id=245&type=YEAST\n",
      "https://www.whitelabs.com/yeast-single?id=246&type=YEAST\n",
      "https://www.whitelabs.com/yeast-single?id=247&type=YEAST\n",
      "https://www.whitelabs.com/yeast-single?id=248&type=YEAST\n",
      "https://www.whitelabs.com/yeast-single?id=249&type=YEAST\n",
      "https://www.whitelabs.com/yeast-single?id=250&type=YEAST\n",
      "https://www.whitelabs.com/yeast-single?id=251&type=YEAST\n",
      "https://www.whitelabs.com/yeast-single?id=252&type=YEAST\n",
      "https://www.whitelabs.com/yeast-single?id=253&type=YEAST\n",
      "https://www.whitelabs.com/yeast-single?id=254&type=YEAST\n",
      "https://www.whitelabs.com/yeast-single?id=255&type=YEAST\n",
      "https://www.whitelabs.com/yeast-single?id=256&type=YEAST\n",
      "https://www.whitelabs.com/yeast-single?id=257&type=YEAST\n",
      "https://www.whitelabs.com/yeast-single?id=258&type=YEAST\n",
      "https://www.whitelabs.com/yeast-single?id=259&type=YEAST\n",
      "https://www.whitelabs.com/yeast-single?id=260&type=YEAST\n",
      "https://www.whitelabs.com/yeast-single?id=261&type=YEAST\n",
      "https://www.whitelabs.com/yeast-single?id=262&type=YEAST\n",
      "https://www.whitelabs.com/yeast-single?id=263&type=YEAST\n",
      "https://www.whitelabs.com/yeast-single?id=264&type=YEAST\n",
      "https://www.whitelabs.com/yeast-single?id=265&type=YEAST\n",
      "https://www.whitelabs.com/yeast-single?id=266&type=YEAST\n",
      "https://www.whitelabs.com/yeast-single?id=267&type=YEAST\n",
      "https://www.whitelabs.com/yeast-single?id=268&type=YEAST\n",
      "https://www.whitelabs.com/yeast-single?id=269&type=YEAST\n",
      "https://www.whitelabs.com/yeast-single?id=270&type=YEAST\n",
      "https://www.whitelabs.com/yeast-single?id=271&type=YEAST\n",
      "https://www.whitelabs.com/yeast-single?id=272&type=YEAST\n",
      "https://www.whitelabs.com/yeast-single?id=273&type=YEAST\n",
      "https://www.whitelabs.com/yeast-single?id=274&type=YEAST\n",
      "https://www.whitelabs.com/yeast-single?id=275&type=YEAST\n",
      "https://www.whitelabs.com/yeast-single?id=276&type=YEAST\n",
      "https://www.whitelabs.com/yeast-single?id=277&type=YEAST\n",
      "https://www.whitelabs.com/yeast-single?id=278&type=YEAST\n",
      "https://www.whitelabs.com/yeast-single?id=279&type=YEAST\n",
      "https://www.whitelabs.com/yeast-single?id=280&type=YEAST\n",
      "https://www.whitelabs.com/yeast-single?id=281&type=YEAST\n",
      "https://www.whitelabs.com/yeast-single?id=282&type=YEAST\n",
      "https://www.whitelabs.com/yeast-single?id=283&type=YEAST\n",
      "https://www.whitelabs.com/yeast-single?id=284&type=YEAST\n",
      "https://www.whitelabs.com/yeast-single?id=285&type=YEAST\n",
      "https://www.whitelabs.com/yeast-single?id=286&type=YEAST\n",
      "https://www.whitelabs.com/yeast-single?id=287&type=YEAST\n",
      "https://www.whitelabs.com/yeast-single?id=288&type=YEAST\n",
      "https://www.whitelabs.com/yeast-single?id=289&type=YEAST\n",
      "https://www.whitelabs.com/yeast-single?id=290&type=YEAST\n",
      "https://www.whitelabs.com/yeast-single?id=291&type=YEAST\n",
      "https://www.whitelabs.com/yeast-single?id=292&type=YEAST\n",
      "https://www.whitelabs.com/yeast-single?id=293&type=YEAST\n",
      "https://www.whitelabs.com/yeast-single?id=294&type=YEAST\n",
      "https://www.whitelabs.com/yeast-single?id=295&type=YEAST\n",
      "https://www.whitelabs.com/yeast-single?id=296&type=YEAST\n",
      "https://www.whitelabs.com/yeast-single?id=297&type=YEAST\n",
      "https://www.whitelabs.com/yeast-single?id=298&type=YEAST\n",
      "https://www.whitelabs.com/yeast-single?id=299&type=YEAST\n",
      "https://www.whitelabs.com/yeast-single?id=300&type=YEAST\n",
      "https://www.whitelabs.com/yeast-single?id=301&type=YEAST\n",
      "https://www.whitelabs.com/yeast-single?id=302&type=YEAST\n",
      "https://www.whitelabs.com/yeast-single?id=303&type=YEAST\n",
      "https://www.whitelabs.com/yeast-single?id=304&type=YEAST\n",
      "https://www.whitelabs.com/yeast-single?id=305&type=YEAST\n",
      "https://www.whitelabs.com/yeast-single?id=306&type=YEAST\n",
      "https://www.whitelabs.com/yeast-single?id=307&type=YEAST\n",
      "https://www.whitelabs.com/yeast-single?id=308&type=YEAST\n",
      "https://www.whitelabs.com/yeast-single?id=309&type=YEAST\n",
      "https://www.whitelabs.com/yeast-single?id=310&type=YEAST\n",
      "https://www.whitelabs.com/yeast-single?id=311&type=YEAST\n",
      "https://www.whitelabs.com/yeast-single?id=312&type=YEAST\n",
      "https://www.whitelabs.com/yeast-single?id=313&type=YEAST\n",
      "https://www.whitelabs.com/yeast-single?id=314&type=YEAST\n",
      "https://www.whitelabs.com/yeast-single?id=315&type=YEAST\n",
      "https://www.whitelabs.com/yeast-single?id=316&type=YEAST\n",
      "https://www.whitelabs.com/yeast-single?id=317&type=YEAST\n",
      "https://www.whitelabs.com/yeast-single?id=318&type=YEAST\n",
      "https://www.whitelabs.com/yeast-single?id=319&type=YEAST\n",
      "https://www.whitelabs.com/yeast-single?id=320&type=YEAST\n",
      "https://www.whitelabs.com/yeast-single?id=321&type=YEAST\n",
      "https://www.whitelabs.com/yeast-single?id=322&type=YEAST\n",
      "https://www.whitelabs.com/yeast-single?id=323&type=YEAST\n",
      "https://www.whitelabs.com/yeast-single?id=324&type=YEAST\n",
      "https://www.whitelabs.com/yeast-single?id=325&type=YEAST\n",
      "https://www.whitelabs.com/yeast-single?id=326&type=YEAST\n",
      "https://www.whitelabs.com/yeast-single?id=327&type=YEAST\n",
      "https://www.whitelabs.com/yeast-single?id=328&type=YEAST\n",
      "https://www.whitelabs.com/yeast-single?id=329&type=YEAST\n",
      "https://www.whitelabs.com/yeast-single?id=330&type=YEAST\n",
      "https://www.whitelabs.com/yeast-single?id=331&type=YEAST\n",
      "https://www.whitelabs.com/yeast-single?id=332&type=YEAST\n",
      "https://www.whitelabs.com/yeast-single?id=333&type=YEAST\n",
      "https://www.whitelabs.com/yeast-single?id=334&type=YEAST\n",
      "https://www.whitelabs.com/yeast-single?id=335&type=YEAST\n",
      "https://www.whitelabs.com/yeast-single?id=336&type=YEAST\n",
      "https://www.whitelabs.com/yeast-single?id=337&type=YEAST\n",
      "https://www.whitelabs.com/yeast-single?id=338&type=YEAST\n",
      "https://www.whitelabs.com/yeast-single?id=339&type=YEAST\n",
      "https://www.whitelabs.com/yeast-single?id=340&type=YEAST\n",
      "https://www.whitelabs.com/yeast-single?id=341&type=YEAST\n",
      "https://www.whitelabs.com/yeast-single?id=342&type=YEAST\n",
      "https://www.whitelabs.com/yeast-single?id=343&type=YEAST\n",
      "https://www.whitelabs.com/yeast-single?id=344&type=YEAST\n",
      "https://www.whitelabs.com/yeast-single?id=345&type=YEAST\n",
      "https://www.whitelabs.com/yeast-single?id=346&type=YEAST\n",
      "https://www.whitelabs.com/yeast-single?id=347&type=YEAST\n",
      "https://www.whitelabs.com/yeast-single?id=348&type=YEAST\n",
      "https://www.whitelabs.com/yeast-single?id=349&type=YEAST\n",
      "https://www.whitelabs.com/yeast-single?id=350&type=YEAST\n",
      "https://www.whitelabs.com/yeast-single?id=351&type=YEAST\n",
      "https://www.whitelabs.com/yeast-single?id=352&type=YEAST\n",
      "https://www.whitelabs.com/yeast-single?id=353&type=YEAST\n",
      "https://www.whitelabs.com/yeast-single?id=354&type=YEAST\n",
      "https://www.whitelabs.com/yeast-single?id=355&type=YEAST\n",
      "https://www.whitelabs.com/yeast-single?id=356&type=YEAST\n",
      "https://www.whitelabs.com/yeast-single?id=357&type=YEAST\n",
      "https://www.whitelabs.com/yeast-single?id=358&type=YEAST\n",
      "https://www.whitelabs.com/yeast-single?id=359&type=YEAST\n",
      "https://www.whitelabs.com/yeast-single?id=360&type=YEAST\n",
      "https://www.whitelabs.com/yeast-single?id=361&type=YEAST\n",
      "https://www.whitelabs.com/yeast-single?id=362&type=YEAST\n",
      "https://www.whitelabs.com/yeast-single?id=363&type=YEAST\n",
      "https://www.whitelabs.com/yeast-single?id=364&type=YEAST\n",
      "https://www.whitelabs.com/yeast-single?id=365&type=YEAST\n",
      "https://www.whitelabs.com/yeast-single?id=366&type=YEAST\n",
      "https://www.whitelabs.com/yeast-single?id=367&type=YEAST\n",
      "https://www.whitelabs.com/yeast-single?id=368&type=YEAST\n",
      "https://www.whitelabs.com/yeast-single?id=369&type=YEAST\n",
      "https://www.whitelabs.com/yeast-single?id=370&type=YEAST\n",
      "https://www.whitelabs.com/yeast-single?id=371&type=YEAST\n",
      "https://www.whitelabs.com/yeast-single?id=372&type=YEAST\n",
      "https://www.whitelabs.com/yeast-single?id=373&type=YEAST\n",
      "https://www.whitelabs.com/yeast-single?id=374&type=YEAST\n",
      "https://www.whitelabs.com/yeast-single?id=375&type=YEAST\n",
      "https://www.whitelabs.com/yeast-single?id=376&type=YEAST\n",
      "https://www.whitelabs.com/yeast-single?id=377&type=YEAST\n",
      "https://www.whitelabs.com/yeast-single?id=378&type=YEAST\n",
      "https://www.whitelabs.com/yeast-single?id=379&type=YEAST\n",
      "https://www.whitelabs.com/yeast-single?id=380&type=YEAST\n",
      "https://www.whitelabs.com/yeast-single?id=381&type=YEAST\n",
      "https://www.whitelabs.com/yeast-single?id=382&type=YEAST\n",
      "https://www.whitelabs.com/yeast-single?id=383&type=YEAST\n",
      "https://www.whitelabs.com/yeast-single?id=384&type=YEAST\n",
      "https://www.whitelabs.com/yeast-single?id=385&type=YEAST\n",
      "https://www.whitelabs.com/yeast-single?id=386&type=YEAST\n",
      "https://www.whitelabs.com/yeast-single?id=387&type=YEAST\n",
      "https://www.whitelabs.com/yeast-single?id=388&type=YEAST\n",
      "https://www.whitelabs.com/yeast-single?id=389&type=YEAST\n",
      "https://www.whitelabs.com/yeast-single?id=390&type=YEAST\n",
      "https://www.whitelabs.com/yeast-single?id=391&type=YEAST\n",
      "https://www.whitelabs.com/yeast-single?id=392&type=YEAST\n",
      "https://www.whitelabs.com/yeast-single?id=393&type=YEAST\n",
      "https://www.whitelabs.com/yeast-single?id=394&type=YEAST\n",
      "https://www.whitelabs.com/yeast-single?id=395&type=YEAST\n",
      "https://www.whitelabs.com/yeast-single?id=396&type=YEAST\n",
      "https://www.whitelabs.com/yeast-single?id=397&type=YEAST\n",
      "https://www.whitelabs.com/yeast-single?id=398&type=YEAST\n",
      "https://www.whitelabs.com/yeast-single?id=399&type=YEAST\n"
     ]
    }
   ],
   "source": [
    "for i in url_list:\n",
    "    print(i)"
   ]
  },
  {
   "cell_type": "code",
   "execution_count": 29,
   "id": "c1b76e9a",
   "metadata": {},
   "outputs": [],
   "source": [
    "df1 = df"
   ]
  },
  {
   "cell_type": "code",
   "execution_count": 30,
   "id": "c8e09d70",
   "metadata": {},
   "outputs": [
    {
     "name": "stdout",
     "output_type": "stream",
     "text": [
      "https://www.whitelabs.com/yeast-single?id=101&type=YEAST\n",
      "None\n",
      "https://www.whitelabs.com/yeast-single?id=102&type=YEAST\n",
      "None\n",
      "https://www.whitelabs.com/yeast-single?id=103&type=YEAST\n",
      "None\n",
      "https://www.whitelabs.com/yeast-single?id=104&type=YEAST\n",
      "None\n",
      "https://www.whitelabs.com/yeast-single?id=105&type=YEAST\n",
      "None\n",
      "https://www.whitelabs.com/yeast-single?id=106&type=YEAST\n",
      "None\n",
      "https://www.whitelabs.com/yeast-single?id=107&type=YEAST\n",
      "None\n",
      "https://www.whitelabs.com/yeast-single?id=108&type=YEAST\n",
      "None\n",
      "https://www.whitelabs.com/yeast-single?id=109&type=YEAST\n",
      "None\n",
      "https://www.whitelabs.com/yeast-single?id=110&type=YEAST\n",
      "None\n",
      "https://www.whitelabs.com/yeast-single?id=111&type=YEAST\n",
      "None\n",
      "https://www.whitelabs.com/yeast-single?id=112&type=YEAST\n",
      "None\n",
      "https://www.whitelabs.com/yeast-single?id=113&type=YEAST\n",
      "ignored\n",
      "https://www.whitelabs.com/yeast-single?id=114&type=YEAST\n",
      "None\n",
      "https://www.whitelabs.com/yeast-single?id=115&type=YEAST\n",
      "None\n",
      "https://www.whitelabs.com/yeast-single?id=116&type=YEAST\n",
      "None\n",
      "https://www.whitelabs.com/yeast-single?id=117&type=YEAST\n",
      "None\n",
      "https://www.whitelabs.com/yeast-single?id=118&type=YEAST\n",
      "None\n",
      "https://www.whitelabs.com/yeast-single?id=119&type=YEAST\n",
      "None\n",
      "https://www.whitelabs.com/yeast-single?id=120&type=YEAST\n",
      "None\n",
      "https://www.whitelabs.com/yeast-single?id=121&type=YEAST\n",
      "None\n",
      "https://www.whitelabs.com/yeast-single?id=122&type=YEAST\n",
      "None\n",
      "https://www.whitelabs.com/yeast-single?id=123&type=YEAST\n",
      "None\n",
      "https://www.whitelabs.com/yeast-single?id=124&type=YEAST\n",
      "None\n",
      "https://www.whitelabs.com/yeast-single?id=125&type=YEAST\n",
      "None\n",
      "https://www.whitelabs.com/yeast-single?id=126&type=YEAST\n",
      "None\n",
      "https://www.whitelabs.com/yeast-single?id=127&type=YEAST\n",
      "None\n",
      "https://www.whitelabs.com/yeast-single?id=128&type=YEAST\n",
      "None\n",
      "https://www.whitelabs.com/yeast-single?id=129&type=YEAST\n",
      "None\n",
      "https://www.whitelabs.com/yeast-single?id=130&type=YEAST\n",
      "None\n",
      "https://www.whitelabs.com/yeast-single?id=131&type=YEAST\n",
      "None\n",
      "https://www.whitelabs.com/yeast-single?id=132&type=YEAST\n",
      "None\n",
      "https://www.whitelabs.com/yeast-single?id=133&type=YEAST\n",
      "None\n",
      "https://www.whitelabs.com/yeast-single?id=134&type=YEAST\n",
      "None\n",
      "https://www.whitelabs.com/yeast-single?id=135&type=YEAST\n",
      "None\n",
      "https://www.whitelabs.com/yeast-single?id=136&type=YEAST\n",
      "None\n",
      "https://www.whitelabs.com/yeast-single?id=137&type=YEAST\n",
      "None\n",
      "https://www.whitelabs.com/yeast-single?id=138&type=YEAST\n",
      "None\n",
      "https://www.whitelabs.com/yeast-single?id=139&type=YEAST\n",
      "None\n",
      "https://www.whitelabs.com/yeast-single?id=140&type=YEAST\n",
      "None\n",
      "https://www.whitelabs.com/yeast-single?id=141&type=YEAST\n",
      "None\n",
      "https://www.whitelabs.com/yeast-single?id=142&type=YEAST\n",
      "None\n",
      "https://www.whitelabs.com/yeast-single?id=143&type=YEAST\n",
      "None\n",
      "https://www.whitelabs.com/yeast-single?id=144&type=YEAST\n",
      "None\n",
      "https://www.whitelabs.com/yeast-single?id=145&type=YEAST\n",
      "None\n",
      "https://www.whitelabs.com/yeast-single?id=146&type=YEAST\n",
      "None\n",
      "https://www.whitelabs.com/yeast-single?id=147&type=YEAST\n",
      "None\n",
      "https://www.whitelabs.com/yeast-single?id=148&type=YEAST\n",
      "None\n",
      "https://www.whitelabs.com/yeast-single?id=149&type=YEAST\n",
      "None\n",
      "https://www.whitelabs.com/yeast-single?id=150&type=YEAST\n",
      "None\n",
      "https://www.whitelabs.com/yeast-single?id=151&type=YEAST\n",
      "None\n",
      "https://www.whitelabs.com/yeast-single?id=152&type=YEAST\n",
      "None\n",
      "https://www.whitelabs.com/yeast-single?id=153&type=YEAST\n",
      "None\n",
      "https://www.whitelabs.com/yeast-single?id=154&type=YEAST\n",
      "None\n",
      "https://www.whitelabs.com/yeast-single?id=155&type=YEAST\n",
      "None\n",
      "https://www.whitelabs.com/yeast-single?id=156&type=YEAST\n",
      "None\n",
      "https://www.whitelabs.com/yeast-single?id=157&type=YEAST\n",
      "None\n",
      "https://www.whitelabs.com/yeast-single?id=158&type=YEAST\n",
      "None\n",
      "https://www.whitelabs.com/yeast-single?id=159&type=YEAST\n",
      "None\n",
      "https://www.whitelabs.com/yeast-single?id=160&type=YEAST\n",
      "None\n",
      "https://www.whitelabs.com/yeast-single?id=161&type=YEAST\n",
      "None\n",
      "https://www.whitelabs.com/yeast-single?id=162&type=YEAST\n",
      "None\n",
      "https://www.whitelabs.com/yeast-single?id=163&type=YEAST\n",
      "None\n",
      "https://www.whitelabs.com/yeast-single?id=164&type=YEAST\n",
      "None\n",
      "https://www.whitelabs.com/yeast-single?id=165&type=YEAST\n",
      "None\n",
      "https://www.whitelabs.com/yeast-single?id=166&type=YEAST\n",
      "None\n",
      "https://www.whitelabs.com/yeast-single?id=167&type=YEAST\n",
      "None\n",
      "https://www.whitelabs.com/yeast-single?id=168&type=YEAST\n",
      "None\n",
      "https://www.whitelabs.com/yeast-single?id=169&type=YEAST\n",
      "None\n",
      "https://www.whitelabs.com/yeast-single?id=170&type=YEAST\n",
      "None\n",
      "https://www.whitelabs.com/yeast-single?id=171&type=YEAST\n",
      "None\n",
      "https://www.whitelabs.com/yeast-single?id=172&type=YEAST\n",
      "None\n",
      "https://www.whitelabs.com/yeast-single?id=173&type=YEAST\n",
      "None\n",
      "https://www.whitelabs.com/yeast-single?id=174&type=YEAST\n",
      "None\n",
      "https://www.whitelabs.com/yeast-single?id=175&type=YEAST\n",
      "ignored\n",
      "https://www.whitelabs.com/yeast-single?id=176&type=YEAST\n",
      "None\n",
      "https://www.whitelabs.com/yeast-single?id=177&type=YEAST\n",
      "None\n",
      "https://www.whitelabs.com/yeast-single?id=178&type=YEAST\n",
      "None\n",
      "https://www.whitelabs.com/yeast-single?id=179&type=YEAST\n",
      "None\n",
      "https://www.whitelabs.com/yeast-single?id=180&type=YEAST\n",
      "None\n",
      "https://www.whitelabs.com/yeast-single?id=181&type=YEAST\n",
      "None\n",
      "https://www.whitelabs.com/yeast-single?id=182&type=YEAST\n",
      "None\n",
      "https://www.whitelabs.com/yeast-single?id=183&type=YEAST\n",
      "None\n",
      "https://www.whitelabs.com/yeast-single?id=184&type=YEAST\n",
      "None\n",
      "https://www.whitelabs.com/yeast-single?id=185&type=YEAST\n",
      "None\n",
      "https://www.whitelabs.com/yeast-single?id=186&type=YEAST\n",
      "None\n",
      "https://www.whitelabs.com/yeast-single?id=187&type=YEAST\n",
      "None\n",
      "https://www.whitelabs.com/yeast-single?id=188&type=YEAST\n",
      "None\n",
      "https://www.whitelabs.com/yeast-single?id=189&type=YEAST\n",
      "None\n",
      "https://www.whitelabs.com/yeast-single?id=190&type=YEAST\n",
      "None\n",
      "https://www.whitelabs.com/yeast-single?id=191&type=YEAST\n",
      "None\n",
      "https://www.whitelabs.com/yeast-single?id=192&type=YEAST\n",
      "None\n",
      "https://www.whitelabs.com/yeast-single?id=193&type=YEAST\n",
      "None\n",
      "https://www.whitelabs.com/yeast-single?id=194&type=YEAST\n",
      "ignored\n",
      "https://www.whitelabs.com/yeast-single?id=195&type=YEAST\n",
      "None\n",
      "https://www.whitelabs.com/yeast-single?id=196&type=YEAST\n",
      "None\n",
      "https://www.whitelabs.com/yeast-single?id=197&type=YEAST\n",
      "None\n",
      "https://www.whitelabs.com/yeast-single?id=198&type=YEAST\n",
      "ignored\n",
      "https://www.whitelabs.com/yeast-single?id=199&type=YEAST\n",
      "None\n",
      "https://www.whitelabs.com/yeast-single?id=200&type=YEAST\n",
      "None\n",
      "https://www.whitelabs.com/yeast-single?id=201&type=YEAST\n",
      "None\n",
      "https://www.whitelabs.com/yeast-single?id=202&type=YEAST\n",
      "None\n",
      "https://www.whitelabs.com/yeast-single?id=203&type=YEAST\n",
      "None\n",
      "https://www.whitelabs.com/yeast-single?id=204&type=YEAST\n",
      "None\n",
      "https://www.whitelabs.com/yeast-single?id=205&type=YEAST\n",
      "None\n",
      "https://www.whitelabs.com/yeast-single?id=206&type=YEAST\n",
      "None\n",
      "https://www.whitelabs.com/yeast-single?id=207&type=YEAST\n",
      "None\n",
      "https://www.whitelabs.com/yeast-single?id=208&type=YEAST\n",
      "None\n",
      "https://www.whitelabs.com/yeast-single?id=209&type=YEAST\n",
      "None\n",
      "https://www.whitelabs.com/yeast-single?id=210&type=YEAST\n",
      "None\n",
      "https://www.whitelabs.com/yeast-single?id=211&type=YEAST\n",
      "None\n",
      "https://www.whitelabs.com/yeast-single?id=212&type=YEAST\n",
      "None\n",
      "https://www.whitelabs.com/yeast-single?id=213&type=YEAST\n",
      "None\n",
      "https://www.whitelabs.com/yeast-single?id=214&type=YEAST\n",
      "None\n",
      "https://www.whitelabs.com/yeast-single?id=215&type=YEAST\n",
      "None\n",
      "https://www.whitelabs.com/yeast-single?id=216&type=YEAST\n",
      "None\n",
      "https://www.whitelabs.com/yeast-single?id=217&type=YEAST\n",
      "None\n",
      "https://www.whitelabs.com/yeast-single?id=218&type=YEAST\n",
      "None\n",
      "https://www.whitelabs.com/yeast-single?id=219&type=YEAST\n",
      "None\n",
      "https://www.whitelabs.com/yeast-single?id=220&type=YEAST\n",
      "None\n",
      "https://www.whitelabs.com/yeast-single?id=221&type=YEAST\n",
      "None\n",
      "https://www.whitelabs.com/yeast-single?id=222&type=YEAST\n",
      "None\n",
      "https://www.whitelabs.com/yeast-single?id=223&type=YEAST\n",
      "None\n",
      "https://www.whitelabs.com/yeast-single?id=224&type=YEAST\n",
      "None\n",
      "https://www.whitelabs.com/yeast-single?id=225&type=YEAST\n",
      "None\n",
      "https://www.whitelabs.com/yeast-single?id=226&type=YEAST\n",
      "None\n",
      "https://www.whitelabs.com/yeast-single?id=227&type=YEAST\n",
      "None\n",
      "https://www.whitelabs.com/yeast-single?id=228&type=YEAST\n",
      "None\n",
      "https://www.whitelabs.com/yeast-single?id=229&type=YEAST\n",
      "None\n",
      "https://www.whitelabs.com/yeast-single?id=230&type=YEAST\n",
      "None\n",
      "https://www.whitelabs.com/yeast-single?id=231&type=YEAST\n",
      "None\n",
      "https://www.whitelabs.com/yeast-single?id=232&type=YEAST\n",
      "None\n",
      "https://www.whitelabs.com/yeast-single?id=233&type=YEAST\n"
     ]
    },
    {
     "name": "stdout",
     "output_type": "stream",
     "text": [
      "None\n",
      "https://www.whitelabs.com/yeast-single?id=234&type=YEAST\n",
      "None\n",
      "https://www.whitelabs.com/yeast-single?id=235&type=YEAST\n"
     ]
    },
    {
     "ename": "HTTPError",
     "evalue": "500 - Internal Server Error",
     "output_type": "error",
     "traceback": [
      "\u001b[1;31m---------------------------------------------------------------------------\u001b[0m",
      "\u001b[1;31mHTTPError\u001b[0m                                 Traceback (most recent call last)",
      "Cell \u001b[1;32mIn[30], line 6\u001b[0m\n\u001b[0;32m      3\u001b[0m \u001b[38;5;28mprint\u001b[39m(url)\n\u001b[0;32m      5\u001b[0m \u001b[38;5;66;03m# fetch step\u001b[39;00m\n\u001b[1;32m----> 6\u001b[0m html \u001b[38;5;241m=\u001b[39m get(i)\n\u001b[0;32m      7\u001b[0m time\u001b[38;5;241m.\u001b[39msleep(\u001b[38;5;241m5\u001b[39m)\n\u001b[0;32m      9\u001b[0m \u001b[38;5;66;03m# extract step\u001b[39;00m\n",
      "File \u001b[1;32mC:\\ProgramData\\anaconda3\\Lib\\site-packages\\gazpacho\\get.py:45\u001b[0m, in \u001b[0;36mget\u001b[1;34m(url, params, headers)\u001b[0m\n\u001b[0;32m     43\u001b[0m             content \u001b[38;5;241m=\u001b[39m json\u001b[38;5;241m.\u001b[39mloads(content)\n\u001b[0;32m     44\u001b[0m \u001b[38;5;28;01mexcept\u001b[39;00m UrllibHTTPError \u001b[38;5;28;01mas\u001b[39;00m e:\n\u001b[1;32m---> 45\u001b[0m     \u001b[38;5;28;01mraise\u001b[39;00m HTTPError(e\u001b[38;5;241m.\u001b[39mcode, e\u001b[38;5;241m.\u001b[39mmsg) \u001b[38;5;28;01mfrom\u001b[39;00m \u001b[38;5;28;01mNone\u001b[39;00m  \u001b[38;5;66;03m# type: ignore\u001b[39;00m\n\u001b[0;32m     46\u001b[0m \u001b[38;5;28;01mreturn\u001b[39;00m content\n",
      "\u001b[1;31mHTTPError\u001b[0m: 500 - Internal Server Error"
     ]
    }
   ],
   "source": [
    "for i in url_list:\n",
    "    url = str(i)\n",
    "    print(url)\n",
    "\n",
    "    # fetch step\n",
    "    html = get(i)\n",
    "    time.sleep(5)\n",
    "    \n",
    "    # extract step\n",
    "    soup = Soup(html)\n",
    "    \n",
    "    # feed soup into loadTable\n",
    "    try:\n",
    "        table = loadTable(soup)\n",
    "    except IndexError:\n",
    "        print('ignored')\n",
    "\n",
    "    df1 = pd.concat([df1, table])"
   ]
  },
  {
   "cell_type": "code",
   "execution_count": null,
   "id": "36f33766",
   "metadata": {},
   "outputs": [],
   "source": [
    "df1"
   ]
  },
  {
   "cell_type": "code",
   "execution_count": null,
   "id": "366d7ec1",
   "metadata": {},
   "outputs": [],
   "source": [
    "df1.to_csv('White_Labs_Strains_with_number.csv')"
   ]
  },
  {
   "cell_type": "code",
   "execution_count": null,
   "id": "83f52841",
   "metadata": {},
   "outputs": [],
   "source": []
  }
 ],
 "metadata": {
  "kernelspec": {
   "display_name": "Python 3 (ipykernel)",
   "language": "python",
   "name": "python3"
  },
  "language_info": {
   "codemirror_mode": {
    "name": "ipython",
    "version": 3
   },
   "file_extension": ".py",
   "mimetype": "text/x-python",
   "name": "python",
   "nbconvert_exporter": "python",
   "pygments_lexer": "ipython3",
   "version": "3.11.5"
  }
 },
 "nbformat": 4,
 "nbformat_minor": 5
}
