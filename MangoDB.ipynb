{
 "cells": [
  {
   "cell_type": "markdown",
   "id": "a2263cd0",
   "metadata": {},
   "source": [
    "# Setting up MongoDB\n",
    "\n",
    "It was decided the a noSQL database would be the best choice for querying, filtering, and returning the data.\n",
    "\n",
    "To that end MongoDB was installed along with its shell, mongosh.\n",
    "\n",
    "![title](images/mongosh.png)\n",
    "\n",
    "The video series on Net Ninja about setting up MongoDB was very helpful.\n",
    "\n",
    "https://www.youtube.com/watch?v=ojKJqNQYaOI\n",
    "\n"
   ]
  },
  {
   "cell_type": "markdown",
   "id": "6208de91",
   "metadata": {},
   "source": [
    "## BSON\n",
    "\n",
    "All the data will need to be stored in binary JSON format (BSON). MangoDB will add a special ObjectID to each one of the documents so that it can be identified by that unique ID.\n",
    "\n",
    "The documents themselves can be nested, or contains an array of information. This would be an option to not need to reference another document.\n"
   ]
  },
  {
   "cell_type": "markdown",
   "id": "40eee261",
   "metadata": {},
   "source": [
    "### Verified that service is running\n",
    "\n",
    "![title](images/servicescheck.png)"
   ]
  },
  {
   "cell_type": "markdown",
   "id": "0d5408e4",
   "metadata": {},
   "source": [
    "### Uploaded csv file that was created to the database\n",
    "\n",
    "![title](images/initialdatabase.png)"
   ]
  },
  {
   "cell_type": "markdown",
   "id": "da56213e",
   "metadata": {},
   "source": [
    "## Querying the New DB\n",
    "One of the most powerful aspects of holding all the data in the noSQL documnet based database is how it can be queried. For example, there are not tags for strains that might produce the aromatic isoamyl acetate, which is perceived as banana. However, I can query the database and see if banana is in any of the descriptions.\n",
    "\n",
    "I did that with the following query : {\"Description\": {\"$regex\": \"banana\", \"$options\": \"i\"}}\n",
    "\n",
    "What returned was 31 of the 689 strains that were include banana in the description. The goal is to now connect this database to a front end user interface so that a user can search it however they want, essentially \"google\" all the information. Added to this will be the beer style that each strain is good for, which should allow a user to type in \"stout\" and have returned all the strains that are good for stout.\n",
    "\n",
    "\n",
    "![title](images/banana.png)"
   ]
  },
  {
   "cell_type": "markdown",
   "id": "6c92a6de",
   "metadata": {},
   "source": [
    "## Using the MangoDB Shell\n",
    "\n",
    "test: show dbs\n",
    "- lists all the databases\n",
    "\n",
    ": use database\n",
    "- switches to whatever database you want to use\n",
    "\n",
    ": show collections\n",
    "- shows all the collections inside the database\n",
    "\n",
    ": var name = \"mario\"\n",
    "- creates a variable named \"mario:\n",
    "\n",
    ": help\n",
    "- lists all the commands\n",
    "\n",
    ": db.collection\n",
    "- returns the collection\n",
    "\n",
    ": db.collections.insertOne({})\n",
    "- adds a new document to the collection\n",
    "\n",
    ": db.collections.insertMany([{},{},{}])\n",
    "- insert and array of documents\n",
    "\n",
    ": db.collection.find()\n",
    "- find and returns the first 20 documents in the collection\n",
    "\n",
    "![title](images/findall.png)\n",
    "\n",
    "\n",
    ": db.collection.find({supplier: \"Propagate Lab\"})\n",
    "- this can be used to find all the yeast supplied by Propagate Lab\n",
    "\n",
    "![title](images/findsupplier.png)\n",
    "\n",
    "\n",
    ": db.collection.find({supplier: \"Propagate Lab\", Flocculation: \"Low\"})\n",
    "- this will return all the yeast supplied by propagate lab that have a low flocculation rate\n",
    "\n",
    "![title](images/supplierflocculation.png)\n",
    "\n",
    ": db.collection.find({Supplier: \"Propagate Lab\"}, {Strain_Name: 1)\n",
    "- filtering the returned results\n",
    "\n",
    "![title](images/strainfilter.png)\n",
    "\n",
    ": db.collection.find({}, {Supplier: 1, Temperature: 1)\n",
    "- returns everything in the collection, but just the supplier and temperature\n",
    "\n",
    ": db.collection.find({Supplier: \"Propagate Lab\").count()\n",
    "- returns a count of yeast supplied by propagate lab\n",
    "\n",
    ": db.collection.find().limit(3).count()\n",
    "- would return three and then count them\n",
    "\n",
    ": db.collection.find().sort({ x: 1 OR -1})\n",
    "- would sort by whatever field you want, 1 or -1 sorts the list AZ or ZA\n",
    "\n",
    ": db.collection.find().sort({}).limit()\n",
    "- would find, sort, and limit"
   ]
  },
  {
   "cell_type": "markdown",
   "id": "da5dd22d",
   "metadata": {},
   "source": [
    "## Edited Environmental Variables Path\n",
    "\n",
    "Added mongosh to the path in enviornmental variables, it can now be run from any command line\n",
    "\n",
    "![title](images/mongosh2.png)"
   ]
  },
  {
   "cell_type": "markdown",
   "id": "f3ddb4d6",
   "metadata": {},
   "source": [
    "## Connecting Jupyter Lab to MongoDB\n"
   ]
  },
  {
   "cell_type": "code",
   "execution_count": 1,
   "id": "f3d7f18b",
   "metadata": {},
   "outputs": [],
   "source": [
    "# Installing the MongoClient package\n",
    "\n",
    "#pip install pymongo\n",
    "\n",
    "from pymongo import MongoClient\n"
   ]
  },
  {
   "cell_type": "code",
   "execution_count": 2,
   "id": "76aa481c",
   "metadata": {},
   "outputs": [],
   "source": [
    "# connecting to the local client\n",
    "client = MongoClient(\"localhost\", 27017)"
   ]
  },
  {
   "cell_type": "code",
   "execution_count": 3,
   "id": "207fd763",
   "metadata": {},
   "outputs": [
    {
     "data": {
      "text/plain": [
       "Database(MongoClient(host=['localhost:27017'], document_class=dict, tz_aware=False, connect=True), 'MSDS_696')"
      ]
     },
     "execution_count": 3,
     "metadata": {},
     "output_type": "execute_result"
    }
   ],
   "source": [
    "# Seeting if the collection is still present\n",
    "db = client['MSDS_696']\n",
    "db"
   ]
  },
  {
   "cell_type": "code",
   "execution_count": 4,
   "id": "98e3ffa1",
   "metadata": {},
   "outputs": [
    {
     "data": {
      "text/plain": [
       "['yeastCollection']"
      ]
     },
     "execution_count": 4,
     "metadata": {},
     "output_type": "execute_result"
    }
   ],
   "source": [
    "db.list_collection_names()"
   ]
  },
  {
   "cell_type": "code",
   "execution_count": 5,
   "id": "ea10ca0f",
   "metadata": {},
   "outputs": [
    {
     "data": {
      "text/plain": [
       "['MSDS_696', 'admin', 'config', 'local']"
      ]
     },
     "execution_count": 5,
     "metadata": {},
     "output_type": "execute_result"
    }
   ],
   "source": [
    "client.list_database_names()"
   ]
  },
  {
   "cell_type": "code",
   "execution_count": 6,
   "id": "4b0574f9",
   "metadata": {},
   "outputs": [],
   "source": [
    "collection = db.yeastCollection"
   ]
  },
  {
   "cell_type": "code",
   "execution_count": 7,
   "id": "6e49a375",
   "metadata": {},
   "outputs": [
    {
     "name": "stdout",
     "output_type": "stream",
     "text": [
      "{'Alcohol_Tolerance': 'Low',\n",
      " 'Attenuation': \"Mid 70's\",\n",
      " 'Description': 'Parent strain is Mexican Lager OYL-113. Thiolized Mexican '\n",
      "                'Lager - passion fruit, guava, NZ sauvignon blanc fruitiness, '\n",
      "                'grapefruit',\n",
      " 'Fermentation_Temperature': \"50's\",\n",
      " 'Flocculation': 'Medium',\n",
      " 'Number': 'MIP-043',\n",
      " 'STA+': 'Negative',\n",
      " 'Strain_Name': 'Lager Thiol',\n",
      " 'Supplier': 'Propagate Lab',\n",
      " '_id': ObjectId('6601e26a2be1d29f48bc41d0')}\n"
     ]
    }
   ],
   "source": [
    "import pprint\n",
    "pprint.pprint(collection.find_one())"
   ]
  },
  {
   "cell_type": "code",
   "execution_count": null,
   "id": "d5bb4a5e",
   "metadata": {},
   "outputs": [],
   "source": [
    "# finding all the ha"
   ]
  },
  {
   "cell_type": "code",
   "execution_count": null,
   "id": "c8b31932",
   "metadata": {},
   "outputs": [],
   "source": []
  },
  {
   "cell_type": "markdown",
   "id": "e776a14a",
   "metadata": {},
   "source": []
  },
  {
   "cell_type": "code",
   "execution_count": 8,
   "id": "ce21b8ff",
   "metadata": {},
   "outputs": [
    {
     "name": "stderr",
     "output_type": "stream",
     "text": [
      "'[title]' is not recognized as an internal or external command,\n",
      "operable program or batch file.\n"
     ]
    }
   ],
   "source": [
    "![title](images/picture.png)"
   ]
  }
 ],
 "metadata": {
  "kernelspec": {
   "display_name": "Python 3 (ipykernel)",
   "language": "python",
   "name": "python3"
  },
  "language_info": {
   "codemirror_mode": {
    "name": "ipython",
    "version": 3
   },
   "file_extension": ".py",
   "mimetype": "text/x-python",
   "name": "python",
   "nbconvert_exporter": "python",
   "pygments_lexer": "ipython3",
   "version": "3.11.5"
  }
 },
 "nbformat": 4,
 "nbformat_minor": 5
}
